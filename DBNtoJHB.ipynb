{
 "cells": [
  {
   "cell_type": "code",
   "execution_count": 43,
   "id": "3ac538d5-634c-4560-8ade-3e2bb71e753b",
   "metadata": {},
   "outputs": [],
   "source": [
    "import networkx as nx"
   ]
  },
  {
   "cell_type": "code",
   "execution_count": 44,
   "id": "29ace90d-b186-43d3-85d9-b7bec4735075",
   "metadata": {},
   "outputs": [],
   "source": [
    "G = nx.Graph()"
   ]
  },
  {
   "cell_type": "code",
   "execution_count": 45,
   "id": "48488c50-527f-43b5-aee0-85324c99dce9",
   "metadata": {},
   "outputs": [],
   "source": [
    "G.add_edge('DBN','PMB',weight=89)\n",
    "G.add_edge('DBN','RBY',weight=112)\n",
    "G.add_edge('PMB','RBY',weight=70)\n",
    "G.add_edge('PMB','HMT',weight=209)\n",
    "G.add_edge('RBY','HMT',weight=100)\n",
    "G.add_edge('RBY','VRT',weight=106)\n",
    "G.add_edge('HMT','JHB',weight=210)\n",
    "G.add_edge('HMT','VRT',weight=41)\n",
    "G.add_edge('VRT','JHB',weight=89)\n",
    "\n",
    "nodes_list=['DBN','PMB','RBY','HMT','VRT','JHB']\n"
   ]
  },
  {
   "cell_type": "code",
   "execution_count": 46,
   "id": "5007d98a-6d2d-46c0-9731-d6cddece5431",
   "metadata": {},
   "outputs": [],
   "source": [
    "def calculate_compare():\n",
    "    km1=get_kms(G,nodes_list[0],nodes_list[1])\n",
    "    km2=get_kms(G,nodes_list[0],nodes_list[2])\n",
    "    costOfN1=km1+cost\n",
    "    costOfN2=km2+cost\n",
    "    if costOfN1 > costOfN2:\n",
    "        goto=1\n",
    "    if  costOfN1 < costOfN2: \n",
    "        goto=2\n",
    "    return goto,costOfN1,costOfN2   "
   ]
  },
  {
   "cell_type": "code",
   "execution_count": 47,
   "id": "dad75b03-7e22-4673-83a5-5c3ec3bce809",
   "metadata": {},
   "outputs": [],
   "source": [
    "def get_kms(G,nodes1,nodes2):\n",
    "    if G.has_edge(nodes1,nodes2):\n",
    "        return G[nodes1][nodes2]['weight']"
   ]
  },
  {
   "cell_type": "code",
   "execution_count": 48,
   "id": "e1e2c42d-d814-4042-bbbd-f6c8df5bbf3d",
   "metadata": {},
   "outputs": [],
   "source": [
    "def count_adjacent(graph,nodes_lists):\n",
    "    count=0\n",
    "    for i in range (len(nodes_list)-1):\n",
    "        if graph.has_edge(nodes_list[0],nodes_list[i+1]):\n",
    "            count +=1\n",
    "    return count        "
   ]
  },
  {
   "cell_type": "code",
   "execution_count": 49,
   "id": "bad77008-0d71-4473-98be-9c651a989383",
   "metadata": {},
   "outputs": [
    {
     "name": "stdout",
     "output_type": "stream",
     "text": [
      "The shortest path from  DBN -> PMB -> RBY -> VRT -> JHB with total cost of 354 kilometres\n"
     ]
    }
   ],
   "source": [
    "cost =0\n",
    "visited_cities=[]\n",
    "while nodes_list[0] !='JHB':\n",
    "    visited_cities.append(nodes_list[0])\n",
    "    count=count_adjacent(G,nodes_list)\n",
    "    if count ==1:\n",
    "        a=get_kms(G,nodes_list[0],nodes_list[1])\n",
    "        cost +=a\n",
    "        nodes_list.remove(nodes_list[0])\n",
    "        continue\n",
    "    if count ==2:\n",
    "         goto,costOfN1,CostOfN2=calculate_compare()\n",
    "         nodes_list.remove(nodes_list[0])\n",
    "         nodes_list.remove(nodes_list[goto])\n",
    "         if goto==2:\n",
    "             cost+=costOfN1\n",
    "         if goto==1:\n",
    "             cost+=costOfN2\n",
    "         if nodes_list[goto]=='JHB':\n",
    "             nodes_list.append('JHB')\n",
    "if nodes_list[0]=='JHB':\n",
    "    visited_cities.append('JHB')\n",
    "print(\"The shortest path from \",' -> '.join(visited_cities),\"with total cost of\",cost,\"kilometres\")"
   ]
  },
  {
   "cell_type": "markdown",
   "id": "59760683-e419-4e71-8f00-ca6d4f78e89b",
   "metadata": {},
   "source": [
    "\n",
    "\n",
    "\n"
   ]
  }
 ],
 "metadata": {
  "kernelspec": {
   "display_name": "Python 3 (ipykernel)",
   "language": "python",
   "name": "python3"
  },
  "language_info": {
   "codemirror_mode": {
    "name": "ipython",
    "version": 3
   },
   "file_extension": ".py",
   "mimetype": "text/x-python",
   "name": "python",
   "nbconvert_exporter": "python",
   "pygments_lexer": "ipython3",
   "version": "3.12.2"
  }
 },
 "nbformat": 4,
 "nbformat_minor": 5
}
